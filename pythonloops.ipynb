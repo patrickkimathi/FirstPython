{
 "cells": [
  {
   "cell_type": "code",
   "execution_count": 1,
   "id": "b39c69f6-0f11-498d-bd4b-c44321809d68",
   "metadata": {},
   "outputs": [],
   "source": [
    "def hint_username(username):\n",
    "    if len(username)<3:\n",
    "        print(\"Invalid username. Must be at least 3 characters long\")\n",
    "    else:\n",
    "        print(\"Valid username\")\n",
    "        "
   ]
  },
  {
   "cell_type": "code",
   "execution_count": 8,
   "id": "4b215bf4-ff55-43bc-af16-809abb437420",
   "metadata": {},
   "outputs": [
    {
     "name": "stdout",
     "output_type": "stream",
     "text": [
      "Invalid username, Must be at least 3 characters long\n"
     ]
    }
   ],
   "source": [
    "def hint_username(username):\n",
    "    if len(username)<3:\n",
    "        print(\"Invalid username, Must be at least 3 characters long\")\n",
    "    elif len(username)>15:\n",
    "        print(\"Invalid username. Must be at most 15 characters long\")\n",
    "    else:\n",
    "        print(\"Valid username\")\n",
    "hint_username(\"Pa\")"
   ]
  },
  {
   "cell_type": "code",
   "execution_count": 10,
   "id": "fc9b16db-8f3d-48dd-ac24-287403fb0e01",
   "metadata": {},
   "outputs": [
    {
     "name": "stdout",
     "output_type": "stream",
     "text": [
      "2\n"
     ]
    }
   ],
   "source": [
    "number =10\n",
    "if number > 11: \n",
    "  print(0)\n",
    "elif number != 10:\n",
    "  print(1)\n",
    "elif number >= 20 or number < 12:\n",
    "  print(2)\n",
    "else:\n",
    "  print(3)"
   ]
  },
  {
   "cell_type": "code",
   "execution_count": 13,
   "id": "322d5503-e9f4-4237-bf4f-a4c2d3bd43f2",
   "metadata": {},
   "outputs": [
    {
     "name": "stdout",
     "output_type": "stream",
     "text": [
      "True\n",
      "False\n",
      "True\n",
      "False\n"
     ]
    }
   ],
   "source": [
    "def calculate_storage(filesize):\n",
    "    block_size = 4096\n",
    "    #use floor devision to calculate how many blocks are fully occupied\n",
    "    full_blocks = filesize//4096\n",
    "    #use modulo operator to check whether there is any reminder\n",
    "    partial_block_reminder = filesize%4096\n",
    "    if partial_block_reminder > 0:\n",
    "        return True \n",
    "    return False\n",
    "print(calculate_storage(1))\n",
    "print(calculate_storage(4096))\n",
    "print(calculate_storage(4097))\n",
    "print(calculate_storage(8192))"
   ]
  },
  {
   "cell_type": "code",
   "execution_count": null,
   "id": "a580f142-34c5-4bb5-979a-64d26ca6dc7b",
   "metadata": {},
   "outputs": [],
   "source": []
  }
 ],
 "metadata": {
  "kernelspec": {
   "display_name": "Python 3 (ipykernel)",
   "language": "python",
   "name": "python3"
  },
  "language_info": {
   "codemirror_mode": {
    "name": "ipython",
    "version": 3
   },
   "file_extension": ".py",
   "mimetype": "text/x-python",
   "name": "python",
   "nbconvert_exporter": "python",
   "pygments_lexer": "ipython3",
   "version": "3.11.7"
  }
 },
 "nbformat": 4,
 "nbformat_minor": 5
}
